{
 "cells": [
  {
   "cell_type": "code",
   "execution_count": 1,
   "id": "47cf62ff",
   "metadata": {},
   "outputs": [],
   "source": [
    "import pandas as pd\n",
    "import numpy as np\n",
    "from sklearn.feature_extraction import text\n",
    "from sklearn.metrics.pairwise import cosine_similarity"
   ]
  },
  {
   "cell_type": "code",
   "execution_count": 2,
   "id": "72b338ca",
   "metadata": {},
   "outputs": [],
   "source": [
    "df = pd.read_csv('Data/네이버_뉴스_코인_20220509_20220609.csv')"
   ]
  },
  {
   "cell_type": "code",
   "execution_count": 88,
   "id": "13137ec2",
   "metadata": {},
   "outputs": [
    {
     "data": {
      "text/plain": [
       "\"'한달 전 데자뷔' 루나2 코인도 9분의 1토막…권도형 CEO '잠수'(종합) https://n.news.naver.com/mnews/article/001/0013236507?sid=104\""
      ]
     },
     "execution_count": 88,
     "metadata": {},
     "output_type": "execute_result"
    }
   ],
   "source": [
    "df[\"Title_and_Link\"] = df[\"Title\"] + \" \" + df[\"Link\"]\n",
    "\n",
    "df[\"Title_and_Link\"][0]"
   ]
  },
  {
   "cell_type": "code",
   "execution_count": 4,
   "id": "2238c40a",
   "metadata": {},
   "outputs": [],
   "source": [
    "articles = df[\"Article\"].tolist()\n",
    "\n",
    "uni_tfidf = text.TfidfVectorizer(input=articles) \n",
    "uni_matrix = uni_tfidf.fit_transform(articles) # 학습\n",
    "uni_sim = cosine_similarity(uni_matrix)\n"
   ]
  },
  {
   "cell_type": "code",
   "execution_count": 105,
   "id": "c5e0b2e4",
   "metadata": {},
   "outputs": [
    {
     "data": {
      "text/plain": [
       "(560, 32009)"
      ]
     },
     "execution_count": 105,
     "metadata": {},
     "output_type": "execute_result"
    }
   ],
   "source": [
    "uni_matrix.toarray().shape"
   ]
  },
  {
   "cell_type": "code",
   "execution_count": 95,
   "id": "63088d8f",
   "metadata": {},
   "outputs": [
    {
     "data": {
      "text/plain": [
       "(560, 560)"
      ]
     },
     "execution_count": 95,
     "metadata": {},
     "output_type": "execute_result"
    }
   ],
   "source": [
    "uni_sim.shape"
   ]
  },
  {
   "cell_type": "code",
   "execution_count": 106,
   "id": "8137502d",
   "metadata": {},
   "outputs": [],
   "source": [
    "# 추천된 기사의 링크도 날짜도 없어서 다시 함수 만들어야 했음\n",
    "\n",
    "# def recommend_articles(xx):\n",
    "#     return \", \".join(df[\"Title\"][xx.argsort()[::-1][1:5]])    # 4개 추천 뉴스들 중 같은 날짜 제외 \n",
    "\n",
    "    \n",
    "# df[\"Recommended Articles\"] = [recommend_articles(x) for x in uni_sim]\n",
    "# df.iloc[0,:]['Recommended Articles']"
   ]
  },
  {
   "cell_type": "code",
   "execution_count": 107,
   "id": "6c1443cb",
   "metadata": {},
   "outputs": [],
   "source": [
    "# 같은 날짜의 기사는 추천하지 않도록 코드 만들기\n",
    "\n",
    "# a = df.iloc[uni_sim[0].argsort()[::-1][1:5], : ]['Datetime']\n",
    "\n",
    "# b = a.index[df.iloc[uni_sim[0].argsort()[::-1][0], :]['Datetime'] != a]\n"
   ]
  },
  {
   "cell_type": "code",
   "execution_count": null,
   "id": "a32bc301",
   "metadata": {},
   "outputs": [],
   "source": [
    "# 날짜를 제외한 결과를 출력하는 함수\n",
    "# def recommend_articles(xx):\n",
    "#         a = df.iloc[xx.argsort()[::-1][1:5], : ]['Datetime'] # 추천 기사들의 날짜들 \n",
    "#         b = a.index[df.iloc[uni_sim[0].argsort()[::-1][0], :]['Datetime'] != a] # 같은 날짜는 추천에서 제외\n",
    "        \n",
    "#         return \", \".join(df[\"Title_and_Link\"][b])"
   ]
  },
  {
   "cell_type": "markdown",
   "id": "9550dbd3",
   "metadata": {},
   "source": [
    "특정 기사와 같은 날짜의 기사는 추천하지 않음 (왜냐하면 같은 내용의 뉴스일 확률이 높음) "
   ]
  },
  {
   "cell_type": "code",
   "execution_count": 72,
   "id": "1ce30138",
   "metadata": {},
   "outputs": [],
   "source": [
    "def recommend_articles(xx):\n",
    "        a = df.iloc[xx.argsort()[::-1][1:5], : ]['Datetime'] # 추천 기사들의 날짜들 \n",
    "        b = a.index[df.iloc[uni_sim[0].argsort()[::-1][0], :]['Datetime'] != a] # 같은 날짜는 추천에서 제외\n",
    "        \n",
    "        c = ''\n",
    "        for i in range(len(b)):\n",
    "             c = c + df[\"Title_and_Link\"][b[i]] + ' ' + df['Datetime'][b[i]] + '\\n'\n",
    "        \n",
    "        return c\n",
    "\n",
    "\n",
    "df[\"Recommended Articles\"] = [recommend_articles(x) for x in uni_sim]\n"
   ]
  },
  {
   "cell_type": "markdown",
   "id": "57d74e16",
   "metadata": {},
   "source": [
    "같은 날짜의 기사를 제외한 가장 유사도 높은 기사들의 제목과 링크와 날짜를 함께 보여줌"
   ]
  },
  {
   "cell_type": "code",
   "execution_count": 83,
   "id": "530900aa",
   "metadata": {},
   "outputs": [
    {
     "name": "stdout",
     "output_type": "stream",
     "text": [
      "기존 기사: \n",
      " '한달 전 데자뷔' 루나2 코인도 9분의 1토막…권도형 CEO '잠수'(종합)https://n.news.naver.com/mnews/article/001/0013236507?sid=104 22.06.09\n",
      "\n",
      "추천 기사: \n",
      " 권도형, '루나 2.0' 내놨지만 비판 여전…\"바보 만드는 코인\" https://n.news.naver.com/mnews/article/277/0005097323?sid=101 22.06.01\n",
      "60배 뛰고 80% 폭삭…테라2.0, 김치코인 사태 반복 하나 https://n.news.naver.com/mnews/article/008/0004752516?sid=105 22.05.30\n",
      "루나 2.0 발행 강행...5대 코인 거래소 \"상장 계획 없다\" https://n.news.naver.com/mnews/article/052/0001744768?sid=101 22.05.27\n",
      "\n"
     ]
    }
   ],
   "source": [
    "print('특정 기사: \\n',  df['Title'].iloc[0]+df['Link'].iloc[0]+' '+ df['Datetime'].iloc[0] + '\\n')\n",
    "\n",
    "print('추천 기사: \\n', df['Recommended Articles'][0])"
   ]
  },
  {
   "cell_type": "code",
   "execution_count": 109,
   "id": "4ec64272",
   "metadata": {},
   "outputs": [
    {
     "data": {
      "text/html": [
       "<div>\n",
       "<style scoped>\n",
       "    .dataframe tbody tr th:only-of-type {\n",
       "        vertical-align: middle;\n",
       "    }\n",
       "\n",
       "    .dataframe tbody tr th {\n",
       "        vertical-align: top;\n",
       "    }\n",
       "\n",
       "    .dataframe thead th {\n",
       "        text-align: right;\n",
       "    }\n",
       "</style>\n",
       "<table border=\"1\" class=\"dataframe\">\n",
       "  <thead>\n",
       "    <tr style=\"text-align: right;\">\n",
       "      <th></th>\n",
       "      <th>Title</th>\n",
       "      <th>Datetime</th>\n",
       "      <th>Article</th>\n",
       "      <th>Newscompany</th>\n",
       "      <th>Link</th>\n",
       "      <th>Title_and_Link</th>\n",
       "      <th>Recommended Articles</th>\n",
       "    </tr>\n",
       "  </thead>\n",
       "  <tbody>\n",
       "    <tr>\n",
       "      <th>0</th>\n",
       "      <td>'한달 전 데자뷔' 루나2 코인도 9분의 1토막…권도형 CEO '잠수'(종합)</td>\n",
       "      <td>22.06.09</td>\n",
       "      <td>권씨 트위터 비공개 전환…\"이제 루나 3.0 나오나\" 비판도국내 투자자들 '사기 ...</td>\n",
       "      <td>연합뉴스</td>\n",
       "      <td>https://n.news.naver.com/mnews/article/001/001...</td>\n",
       "      <td>'한달 전 데자뷔' 루나2 코인도 9분의 1토막…권도형 CEO '잠수'(종합) ht...</td>\n",
       "      <td>권도형, '루나 2.0' 내놨지만 비판 여전…\"바보 만드는 코인\" https://n...</td>\n",
       "    </tr>\n",
       "    <tr>\n",
       "      <th>1</th>\n",
       "      <td>“제2 루나 사태 막자”…코인마켓 거래소 공동 가이드라인 추진</td>\n",
       "      <td>22.06.09</td>\n",
       "      <td>거래소 독과점 해소·실명계좌 확대 등 다른 현안도 공동 대응         KDA...</td>\n",
       "      <td>이코노미스트</td>\n",
       "      <td>https://n.news.naver.com/mnews/article/243/000...</td>\n",
       "      <td>“제2 루나 사태 막자”…코인마켓 거래소 공동 가이드라인 추진 https://n.n...</td>\n",
       "      <td>디지털자산사업자연합회 \"코인거래소 공동가이드라인 제정 추진\" https://n.ne...</td>\n",
       "    </tr>\n",
       "    <tr>\n",
       "      <th>2</th>\n",
       "      <td>비트코인, 美 5월 CPI 발표 앞두고 하락세…3800만원대</td>\n",
       "      <td>22.06.09</td>\n",
       "      <td>기사내용 요약비트코인 3800만원대·이더리움 220만원대오는 10일 미국 5월 소...</td>\n",
       "      <td>뉴시스</td>\n",
       "      <td>https://n.news.naver.com/mnews/article/003/001...</td>\n",
       "      <td>비트코인, 美 5월 CPI 발표 앞두고 하락세…3800만원대 https://n.ne...</td>\n",
       "      <td>[코인시황]비트코인, 하루 새 다시 4000만원 아래로 https://n.news....</td>\n",
       "    </tr>\n",
       "  </tbody>\n",
       "</table>\n",
       "</div>"
      ],
      "text/plain": [
       "                                         Title  Datetime  \\\n",
       "0  '한달 전 데자뷔' 루나2 코인도 9분의 1토막…권도형 CEO '잠수'(종합)  22.06.09   \n",
       "1           “제2 루나 사태 막자”…코인마켓 거래소 공동 가이드라인 추진  22.06.09   \n",
       "2            비트코인, 美 5월 CPI 발표 앞두고 하락세…3800만원대  22.06.09   \n",
       "\n",
       "                                             Article Newscompany  \\\n",
       "0   권씨 트위터 비공개 전환…\"이제 루나 3.0 나오나\" 비판도국내 투자자들 '사기 ...        연합뉴스   \n",
       "1   거래소 독과점 해소·실명계좌 확대 등 다른 현안도 공동 대응         KDA...      이코노미스트   \n",
       "2   기사내용 요약비트코인 3800만원대·이더리움 220만원대오는 10일 미국 5월 소...         뉴시스   \n",
       "\n",
       "                                                Link  \\\n",
       "0  https://n.news.naver.com/mnews/article/001/001...   \n",
       "1  https://n.news.naver.com/mnews/article/243/000...   \n",
       "2  https://n.news.naver.com/mnews/article/003/001...   \n",
       "\n",
       "                                      Title_and_Link  \\\n",
       "0  '한달 전 데자뷔' 루나2 코인도 9분의 1토막…권도형 CEO '잠수'(종합) ht...   \n",
       "1  “제2 루나 사태 막자”…코인마켓 거래소 공동 가이드라인 추진 https://n.n...   \n",
       "2  비트코인, 美 5월 CPI 발표 앞두고 하락세…3800만원대 https://n.ne...   \n",
       "\n",
       "                                Recommended Articles  \n",
       "0  권도형, '루나 2.0' 내놨지만 비판 여전…\"바보 만드는 코인\" https://n...  \n",
       "1  디지털자산사업자연합회 \"코인거래소 공동가이드라인 제정 추진\" https://n.ne...  \n",
       "2  [코인시황]비트코인, 하루 새 다시 4000만원 아래로 https://n.news....  "
      ]
     },
     "execution_count": 109,
     "metadata": {},
     "output_type": "execute_result"
    }
   ],
   "source": [
    "df.head(3)"
   ]
  },
  {
   "cell_type": "code",
   "execution_count": 110,
   "id": "fd739246",
   "metadata": {},
   "outputs": [],
   "source": [
    "file_path =  \"./Data/\"\n",
    "\n",
    "file_name = \"네이버_뉴스_\" + '코인_기사추천시스템' + \".csv\"\n",
    "\n",
    "file_full_path = file_path + file_name\n",
    "\n",
    "df.to_csv(file_full_path ,  index = False, encoding=\"utf-8-sig\") # utf-8-sig로 해야함! ㅜto_csv(file_full_path ,  index = False, encoding=\"utf-8-sig\") # utf-8-sig로 해야함! to_csv(file_full_path ,  index = False, encoding=\"utf-8-sig\") # utf-8-sig로 해야함! ㅜto_csv(file_full_path ,  index = False, encoding=\"utf-8-sig\") # utf-8-sig로 해야함! ㅜ "
   ]
  },
  {
   "cell_type": "code",
   "execution_count": null,
   "id": "77e524c2",
   "metadata": {},
   "outputs": [],
   "source": []
  }
 ],
 "metadata": {
  "kernelspec": {
   "display_name": "Python 3 (ipykernel)",
   "language": "python",
   "name": "python3"
  },
  "language_info": {
   "codemirror_mode": {
    "name": "ipython",
    "version": 3
   },
   "file_extension": ".py",
   "mimetype": "text/x-python",
   "name": "python",
   "nbconvert_exporter": "python",
   "pygments_lexer": "ipython3",
   "version": "3.8.12"
  }
 },
 "nbformat": 4,
 "nbformat_minor": 5
}
