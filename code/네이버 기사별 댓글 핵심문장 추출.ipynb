{
 "cells": [
  {
   "cell_type": "markdown",
   "id": "f2ac65eb",
   "metadata": {},
   "source": [
    "[참조] \n",
    "\n",
    "\n",
    "Keyword extraction process: https://github.com/lovit/KR-WordRank\n",
    "\n"
   ]
  },
  {
   "cell_type": "markdown",
   "id": "7fbd2104",
   "metadata": {},
   "source": [
    "# Key-sentence extraction"
   ]
  },
  {
   "cell_type": "code",
   "execution_count": 1,
   "id": "5ec74bd9",
   "metadata": {},
   "outputs": [],
   "source": [
    "import pandas as pd\n",
    "\n",
    "df = pd.read_csv('./Data/네이버_뉴스_코인_기사별_댓글.csv')"
   ]
  },
  {
   "cell_type": "code",
   "execution_count": 2,
   "id": "2ec4e6d3",
   "metadata": {},
   "outputs": [],
   "source": [
    "import sys\n",
    "sys.path.append('../')\n",
    "\n",
    "from krwordrank.word import KRWordRank\n",
    "import krwordrank"
   ]
  },
  {
   "cell_type": "code",
   "execution_count": 12,
   "id": "9a5f99d2",
   "metadata": {},
   "outputs": [],
   "source": [
    "from krwordrank.sentence import summarize_with_sentences"
   ]
  },
  {
   "cell_type": "code",
   "execution_count": null,
   "id": "79d8347f",
   "metadata": {},
   "outputs": [],
   "source": [
    "#keywords, sents = summarize_with_sentences(texts, num_keywords=100, num_keysents=20)\n",
    "\n",
    "# penalty = lambda x:0 if (10 <= len(x) <= 300) else 1\n",
    "\n",
    "# stopwords = {'많다','역시','아직도','누가','많이','한다','\\\\','지금','바로','10','절대','그만','나도', '무슨','없다','어떻게','같은','만들어','대놓고', '코인','차라리','근데','아닌','진짜','이게','과연','하는', '때문에','ㅋㅋ','사람', '그냥','이런','이제','아니','얼마나','가지고','있는','주변에','다주니','없는','내가','그렇게','수많은','저런','돈이'}\n",
    "\n",
    "# keywords, sents = summarize_with_sentences(\n",
    "#     texts,\n",
    "#     penalty=penalty,\n",
    "#     stopwords = stopwords,\n",
    "#     diversity=0.5,\n",
    "#     num_keywords=100,\n",
    "#     num_keysents=20,\n",
    "#     verbose=False\n",
    "# )"
   ]
  },
  {
   "cell_type": "code",
   "execution_count": 59,
   "id": "71eae94a",
   "metadata": {},
   "outputs": [],
   "source": [
    "# 각 기사별 댓글들 중 핵심문장 5개 추출하는 함수 만들기 \n",
    "\n",
    "def summarize_comments(comment):\n",
    "    \n",
    "\n",
    "    penalty = lambda x:0 if (10 <= len(x) <= 300) else 1\n",
    "\n",
    "    stopwords = {'많다','역시','아직도','누가','많이','한다','\\\\','지금','바로','10','절대','그만','나도', '무슨','없다','어떻게','같은','만들어','대놓고', '코인','차라리','근데','아닌','진짜','이게','과연','하는', '때문에','ㅋㅋ','사람', '그냥','이런','이제','아니','얼마나','가지고','있는','주변에','다주니','없는','내가','그렇게','수많은','저런','돈이'}\n",
    "    \n",
    "    keywords, sents = summarize_with_sentences(\n",
    "        comment,\n",
    "        penalty=penalty, stopwords = stopwords, diversity=0.5, \n",
    "        num_keywords=100, num_keysents=5, verbose=False\n",
    "    )\n",
    "    \n",
    "    return sents\n",
    "    \n",
    "    "
   ]
  },
  {
   "cell_type": "code",
   "execution_count": 69,
   "id": "697bfc48",
   "metadata": {},
   "outputs": [],
   "source": [
    "# 기사별 댓글 개수가 50개 이상인 기사들만  댓글의 핵심문장 5개 추출 (50개보다 적으면 추출이 안됨)\n",
    "df['KeyComments'] = ''\n",
    "\n",
    "for i in range(len(df['Comments'])):\n",
    "\n",
    "    if len(df['Comments'][i].split('\\\"')[1::2])>=50:\n",
    "        df['KeyComments'][i] = summarize_comments(df['Comments'][i].split('\\\"')[1::2])\n",
    "            \n",
    "    else:\n",
    "        df['KeyComments'][i] = ''\n",
    "            "
   ]
  },
  {
   "cell_type": "code",
   "execution_count": 102,
   "id": "0bfff3af",
   "metadata": {},
   "outputs": [
    {
     "data": {
      "text/plain": [
       "77"
      ]
     },
     "execution_count": 102,
     "metadata": {},
     "output_type": "execute_result"
    }
   ],
   "source": [
    "sum(df['KeyComments']!='')"
   ]
  },
  {
   "cell_type": "code",
   "execution_count": 104,
   "id": "d16286e2",
   "metadata": {},
   "outputs": [],
   "source": [
    "# 77개의 기사에서 댓글의 핵심 문장들을 추출할 수 있었다.\n",
    "\n",
    "new_df = df[df['KeyComments']!='']"
   ]
  },
  {
   "cell_type": "code",
   "execution_count": 108,
   "id": "f13d523f",
   "metadata": {
    "scrolled": true
   },
   "outputs": [
    {
     "data": {
      "text/html": [
       "<div>\n",
       "<style scoped>\n",
       "    .dataframe tbody tr th:only-of-type {\n",
       "        vertical-align: middle;\n",
       "    }\n",
       "\n",
       "    .dataframe tbody tr th {\n",
       "        vertical-align: top;\n",
       "    }\n",
       "\n",
       "    .dataframe thead th {\n",
       "        text-align: right;\n",
       "    }\n",
       "</style>\n",
       "<table border=\"1\" class=\"dataframe\">\n",
       "  <thead>\n",
       "    <tr style=\"text-align: right;\">\n",
       "      <th></th>\n",
       "      <th>Title</th>\n",
       "      <th>Datetime</th>\n",
       "      <th>Article</th>\n",
       "      <th>Newscompany</th>\n",
       "      <th>Link</th>\n",
       "      <th>Comments</th>\n",
       "      <th>KeyComments</th>\n",
       "    </tr>\n",
       "  </thead>\n",
       "  <tbody>\n",
       "    <tr>\n",
       "      <th>0</th>\n",
       "      <td>'한달 전 데자뷔' 루나2 코인도 9분의 1토막…권도형 CEO '잠수'(종합)</td>\n",
       "      <td>22.06.09</td>\n",
       "      <td>권씨 트위터 비공개 전환…\"이제 루나 3.0 나오나\" 비판도국내 투자자들 '사기 ...</td>\n",
       "      <td>연합뉴스</td>\n",
       "      <td>https://n.news.naver.com/mnews/article/001/001...</td>\n",
       "      <td>['\"내가 진심 궁금해서 물어봅니다.\\\\n저 루나 코인가지고 뭘한다고 사고파는건가요...</td>\n",
       "      <td>[얘는 제 명에 살기 힘들것 같다.   그리고 루나2에 속은 애들 별로없어.  해외...</td>\n",
       "    </tr>\n",
       "    <tr>\n",
       "      <th>4</th>\n",
       "      <td>비트코인 '반감기 효과'…2년 뒤 최저 6000만~최고 3억7600만원(종합)</td>\n",
       "      <td>22.06.08</td>\n",
       "      <td>빗썸경제연구소, 첫 리포트 발행\"2024~2028년 비트코인 가격, 최저 6000...</td>\n",
       "      <td>뉴스1</td>\n",
       "      <td>https://n.news.naver.com/mnews/article/421/000...</td>\n",
       "      <td>['\"빗썸연구소?? ㅋㅋㅋㅋㅋㅋ\"', '\"방사능이냐?\"', '\"3년안에 휴지된다\"'...</td>\n",
       "      <td>[\\'빗썸\\'경제연구소 ㅋㅋㅋㅋㅋㅋ 코인 수수료로 먹고 사는 애들이 코인 가격 떨어...</td>\n",
       "    </tr>\n",
       "    <tr>\n",
       "      <th>6</th>\n",
       "      <td>루나2도 출시 열흘 만에 ‘떡락’...美 뉴욕, 스테이블 코인 규제 강화</td>\n",
       "      <td>22.06.09</td>\n",
       "      <td>최근 폭락한 루나 코인의 시세 /연합뉴스        가치 폭락으로 실패한...</td>\n",
       "      <td>조선비즈</td>\n",
       "      <td>https://n.news.naver.com/mnews/article/366/000...</td>\n",
       "      <td>['\"그런데도 이걸 산 사람이 있다는게 더 신기함\"', '\"권도형 진짜 변사체로 발...</td>\n",
       "      <td>[실체도 없고 실적도 없는 기업도 아닌 그냥 상상속의 돈인 루나 코인 같은걸 사는 ...</td>\n",
       "    </tr>\n",
       "  </tbody>\n",
       "</table>\n",
       "</div>"
      ],
      "text/plain": [
       "                                         Title  Datetime  \\\n",
       "0  '한달 전 데자뷔' 루나2 코인도 9분의 1토막…권도형 CEO '잠수'(종합)  22.06.09   \n",
       "4  비트코인 '반감기 효과'…2년 뒤 최저 6000만~최고 3억7600만원(종합)  22.06.08   \n",
       "6     루나2도 출시 열흘 만에 ‘떡락’...美 뉴욕, 스테이블 코인 규제 강화  22.06.09   \n",
       "\n",
       "                                             Article Newscompany  \\\n",
       "0   권씨 트위터 비공개 전환…\"이제 루나 3.0 나오나\" 비판도국내 투자자들 '사기 ...        연합뉴스   \n",
       "4   빗썸경제연구소, 첫 리포트 발행\"2024~2028년 비트코인 가격, 최저 6000...         뉴스1   \n",
       "6       최근 폭락한 루나 코인의 시세 /연합뉴스        가치 폭락으로 실패한...        조선비즈   \n",
       "\n",
       "                                                Link  \\\n",
       "0  https://n.news.naver.com/mnews/article/001/001...   \n",
       "4  https://n.news.naver.com/mnews/article/421/000...   \n",
       "6  https://n.news.naver.com/mnews/article/366/000...   \n",
       "\n",
       "                                            Comments  \\\n",
       "0  ['\"내가 진심 궁금해서 물어봅니다.\\\\n저 루나 코인가지고 뭘한다고 사고파는건가요...   \n",
       "4  ['\"빗썸연구소?? ㅋㅋㅋㅋㅋㅋ\"', '\"방사능이냐?\"', '\"3년안에 휴지된다\"'...   \n",
       "6  ['\"그런데도 이걸 산 사람이 있다는게 더 신기함\"', '\"권도형 진짜 변사체로 발...   \n",
       "\n",
       "                                         KeyComments  \n",
       "0  [얘는 제 명에 살기 힘들것 같다.   그리고 루나2에 속은 애들 별로없어.  해외...  \n",
       "4  [\\'빗썸\\'경제연구소 ㅋㅋㅋㅋㅋㅋ 코인 수수료로 먹고 사는 애들이 코인 가격 떨어...  \n",
       "6  [실체도 없고 실적도 없는 기업도 아닌 그냥 상상속의 돈인 루나 코인 같은걸 사는 ...  "
      ]
     },
     "execution_count": 108,
     "metadata": {},
     "output_type": "execute_result"
    }
   ],
   "source": [
    "new_df.head(3)"
   ]
  },
  {
   "cell_type": "code",
   "execution_count": 121,
   "id": "83e7beaa",
   "metadata": {},
   "outputs": [
    {
     "name": "stdout",
     "output_type": "stream",
     "text": [
      "Int64Index([  0,   4,   6,   7,  10,  19, 128, 146, 169, 174, 198, 202, 203,\n",
      "            204, 226, 227, 233, 235, 237, 243, 252, 265, 278, 283, 287, 289,\n",
      "            294, 299, 307, 318, 326, 329, 333, 336, 337, 338, 339, 342, 359,\n",
      "            364, 378, 383, 401, 405, 410, 416, 419, 421, 423, 434, 435, 437,\n",
      "            444, 445, 450, 452, 456, 457, 464, 467, 469, 476, 481, 492, 497,\n",
      "            499, 505, 508, 510, 523, 528, 539, 540, 543, 549, 550, 555],\n",
      "           dtype='int64')\n"
     ]
    }
   ],
   "source": [
    " print(new_df['KeyComments'].index)"
   ]
  },
  {
   "cell_type": "code",
   "execution_count": 134,
   "id": "750d9d9e",
   "metadata": {},
   "outputs": [
    {
     "name": "stdout",
     "output_type": "stream",
     "text": [
      "0 번째 기사의 댓글 핵심 문장: \n",
      " ['얘는 제 명에 살기 힘들것 같다.   그리고 루나2에 속은 애들 별로없어.  해외거래소 거래하는 애들 몇... 루나2는 루나1 물린애들 떡밥던져준거, 루나2 자체가 먹튀하기 위해 만들어진건데... 저걸 사서 속은애들은 능지가 처참한 애들이지..  저 색은 볼수록 괘씸함.  국내에선 저거 상장안시켜줬슴.', '똑같은 사기꾼한테 재차 당하는것도 능력이다 능력 ㅋㅋㅋㅋ\\\\\\\\n학습이 안되냐??? 진짜 당한놈들도 지능박살난듯', '사업이 잘될때 겸손하게 행동하며 아군을 만들어야 되는데 ~ 반대짓을 하니 쪽망이군 ~ 한국서만 그랬다면 목숨이라도 부지 할텐데 ~ 전세계 쪽망이라  저 세상 가는것도 시간 문제네 ~  한국 망신 다시키고  이젠 잠수타버리고 ~  가족들은 어떡 할껴 ~ 잠수 자체가 사기꾼 인정되버리네~ 심히 훗날 결과가 궁금하다', '이사람과 가족들 경찰이 잡아야지 이상한 사람들이 먼저 잡으면 온 가족 친척들과 함께 곱게는 못죽을듯.... 국내 이야기도 아니고 전 세계상대로 이런 일이 벌어진건데...', '이야 저걸 또 사..?? 진짜 머가리 수준ㄷㄷ하다ㅋㅋ 뭘 고소하긴 고소해 OOO들ㅋㅋㅋ'] \n",
      "\n",
      "1 번째 기사의 댓글 핵심 문장: \n",
      " [\"\\\\'빗썸\\\\'경제연구소 ㅋㅋㅋㅋㅋㅋ 코인 수수료로 먹고 사는 애들이 코인 가격 떨어진다고 말하겠냐 24~28년 코인 가격 500만 원까지 떨어질 걸로 예상해라고 쓰겠냐고\", '두나무폭락연구소 의견은 반감기고 나발이고 루나 꼴 면하려면 런 해라 입니다. 언제 생겼냐면 1분 전에 머릿속에서 만들었습니다', '지네들끼리 허상에 가치없는자산에 조작질인데 100억이 되근 루나처럼 휴지조각이 되든 이상할게 없지 이만한 도박도 없지', '최저에서 최고 예상 범위가 6배네ㅋㅋㅋㅋㅋ 이딴걸 리포트라고 ㅋㅋㅋㅋㅋㅋㅋㅋㅋ', '막던지네~ 가치라고는 눈씻고 찾아봐도 안보이는데~~\\\\\\\\n그냥 돈놓고 돈먹기지.'] \n",
      "\n",
      "2 번째 기사의 댓글 핵심 문장: \n",
      " ['실체도 없고 실적도 없는 기업도 아닌 그냥 상상속의 돈인 루나 코인 같은걸 사는 사람들은 도박꾼인가 피라미드 낚시에 걸린 희생양들인가?', '루나로 20만명 왼쪽눈탱이 쳐맞고 루나2로 오른쪽까지 쳐맞아서 봉사됨', '루나2.0 거래를 승인 해준 거래소가 더 나쁜 놈들이지~ 도둑놈이 도눅질 하게 자리를 만들어 준거니까~', '폰지 사기를 대놓고 계속 하네~~~  어이없는데 이걸 또 사는 건 뭥미', 'ㅋㅋㅋㅋ 사기꾼이 진행하는 프로젝트에 들어가면 그건 그냥 구대기겠지..'] \n",
      "\n"
     ]
    }
   ],
   "source": [
    "idx = list(new_df['KeyComments'].index)\n",
    "\n",
    "a = 0\n",
    "for i in idx[:3]:\n",
    "    print(a, '번째 기사의 댓글 핵심 문장:','\\n', df['KeyComments'][i],'\\n')\n",
    "    a += 1"
   ]
  },
  {
   "cell_type": "code",
   "execution_count": 106,
   "id": "c34492d9",
   "metadata": {},
   "outputs": [],
   "source": [
    "file_path =  \"./Data/\"\n",
    "\n",
    "file_name = \"네이버_뉴스_\" + '코인_기사별_댓글_핵심문장추출' + \".csv\"\n",
    "\n",
    "file_full_path = file_path + file_name\n",
    "\n",
    "new_df.to_csv(file_full_path ,  index = False, encoding=\"utf-8-sig\") "
   ]
  },
  {
   "cell_type": "code",
   "execution_count": null,
   "id": "eebfe71f",
   "metadata": {},
   "outputs": [],
   "source": []
  },
  {
   "cell_type": "code",
   "execution_count": null,
   "id": "f877589c",
   "metadata": {},
   "outputs": [],
   "source": []
  },
  {
   "cell_type": "code",
   "execution_count": null,
   "id": "5f48416a",
   "metadata": {},
   "outputs": [],
   "source": []
  },
  {
   "cell_type": "code",
   "execution_count": null,
   "id": "d8b43b4e",
   "metadata": {},
   "outputs": [],
   "source": []
  }
 ],
 "metadata": {
  "kernelspec": {
   "display_name": "Python 3 (ipykernel)",
   "language": "python",
   "name": "python3"
  },
  "language_info": {
   "codemirror_mode": {
    "name": "ipython",
    "version": 3
   },
   "file_extension": ".py",
   "mimetype": "text/x-python",
   "name": "python",
   "nbconvert_exporter": "python",
   "pygments_lexer": "ipython3",
   "version": "3.8.12"
  }
 },
 "nbformat": 4,
 "nbformat_minor": 5
}
