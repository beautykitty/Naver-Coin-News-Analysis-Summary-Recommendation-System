{
  "nbformat": 4,
  "nbformat_minor": 0,
  "metadata": {
    "colab": {
      "name": "네이버 기사 BERT 토픽모델링.ipynb",
      "private_outputs": true,
      "provenance": []
    },
    "kernelspec": {
      "name": "python3",
      "display_name": "Python 3"
    },
    "language_info": {
      "name": "python"
    },
    "accelerator": "GPU"
  },
  "cells": [
    {
      "cell_type": "markdown",
      "source": [
        "\n",
        "\n",
        "<참조> \n",
        "\n",
        "\n",
        "KoBERTopic 코드 : https://github.com/ukairia777/KoBERTopic/blob/main/KoBERTopic.ipynb\n",
        "\n",
        "\n",
        "\n",
        "불용어 제거 코드 : https://wikidocs.net/22530"
      ],
      "metadata": {
        "id": "7f28yYVuUnFS"
      }
    },
    {
      "cell_type": "code",
      "execution_count": null,
      "metadata": {
        "id": "x5S2FZGY6AjW"
      },
      "outputs": [],
      "source": [
        "!pip install bertopic"
      ]
    },
    {
      "cell_type": "code",
      "source": [
        "!pip install bertopic[visualization]"
      ],
      "metadata": {
        "id": "EJ8QtMbn6ifZ"
      },
      "execution_count": null,
      "outputs": []
    },
    {
      "cell_type": "code",
      "source": [
        "# Colab에 Mecab 설치\n",
        "!git clone https://github.com/SOMJANG/Mecab-ko-for-Google-Colab.git\n",
        "%cd Mecab-ko-for-Google-Colab\n",
        "!bash install_mecab-ko_on_colab190912.sh"
      ],
      "metadata": {
        "id": "EpYCunf96ihQ"
      },
      "execution_count": null,
      "outputs": []
    },
    {
      "cell_type": "code",
      "source": [
        "from google.colab import drive \n",
        "drive.mount('/content/gdrive/')"
      ],
      "metadata": {
        "id": "6mwJLDn56ijO"
      },
      "execution_count": null,
      "outputs": []
    },
    {
      "cell_type": "code",
      "source": [
        "import pandas as pd"
      ],
      "metadata": {
        "id": "uXqt2Yx_7KMi"
      },
      "execution_count": null,
      "outputs": []
    },
    {
      "cell_type": "code",
      "source": [
        "df = pd.read_csv('/content/gdrive/MyDrive/웹과텍스트마이닝/기말 프로젝트/Data/네이버_뉴스_코인_20220509_20220609.csv')\n"
      ],
      "metadata": {
        "id": "xobOceBQ6ilX"
      },
      "execution_count": null,
      "outputs": []
    },
    {
      "cell_type": "code",
      "source": [
        "df['Article']"
      ],
      "metadata": {
        "id": "JtJ4I0N56inT"
      },
      "execution_count": null,
      "outputs": []
    },
    {
      "cell_type": "code",
      "source": [
        "from tqdm import tqdm\n",
        "from sklearn.feature_extraction.text import CountVectorizer\n",
        "from konlpy.tag import Mecab\n",
        "from bertopic import BERTopic"
      ],
      "metadata": {
        "id": "n1TrrBia6ipE"
      },
      "execution_count": null,
      "outputs": []
    },
    {
      "cell_type": "code",
      "source": [
        "documents = [line.strip() for line in df['Article']]\n"
      ],
      "metadata": {
        "id": "KSWhK1je6iq8"
      },
      "execution_count": null,
      "outputs": []
    },
    {
      "cell_type": "code",
      "source": [
        "documents[0]"
      ],
      "metadata": {
        "id": "cJcR7hE1M9nh"
      },
      "execution_count": null,
      "outputs": []
    },
    {
      "cell_type": "markdown",
      "source": [
        "# 단어 빈도수를 기반으로한 불용어 찾기 \n",
        "\n",
        ": 단어 빈도수가 높은데 중요하지 않은 단어와 일반적으로 자주 사용되는 단어를 합쳐서 불용어 만들었습니다.\n",
        "\n",
        " 한나눔 토크나이저 사용해서 토큰화 한 뒤 단어 빈도수가 100이상인 단어들을 기준으로 불용어 선택\n",
        "\n",
        "- 자주 사용되는 불용어 링크 : \n",
        "https://www.ranks.nl/stopwords/korean\n"
      ],
      "metadata": {
        "id": "MsrlX1IvKzIT"
      }
    },
    {
      "cell_type": "code",
      "source": [
        "# # 모든 기사 하나의 문자열로 합치기\n",
        "# all_text = ''\n",
        "\n",
        "# for i in range(len(documents)):\n",
        "#     all_text = all_text + documents[i]\n"
      ],
      "metadata": {
        "id": "ZQv32FX_x7ZR"
      },
      "execution_count": null,
      "outputs": []
    },
    {
      "cell_type": "code",
      "source": [
        "# from konlpy.tag import Hannanum\n",
        "# import pandas as pd\n",
        "# import numpy as np\n",
        "\n",
        "# hannanum = Hannanum()\n",
        "# text_list = hannanum.nouns(all_text)\n",
        "# # text_list \n"
      ],
      "metadata": {
        "id": "DRak6OAOhg5e"
      },
      "execution_count": null,
      "outputs": []
    },
    {
      "cell_type": "code",
      "source": [
        "# # 빈도수 100개 이상인 단어 중에서 불용어 직접 제거\n",
        "\n",
        "# word_list = pd.Series(text_list)\n",
        "# result = word_list.value_counts()\n",
        "# # result[0:200]\n",
        "\n",
        "# '것 등 수 이 코 루 비트코 전 중 이날 테 경우 투 이후 때문 때 관련 대비 그 이상 기 3 원 블록체 해당 설명 이번 24시간 약 씨 오후 주요 유 현재 상황 올해 방식 0. 규모 선 거 5월 바 기존 뒤 한편 권 가운데 한 지 개 정도 초 일부 들 만 시 내용 시각 후 전체 0 내 데 점 두 사건 2 비중'"
      ],
      "metadata": {
        "id": "QOgTkhzmhi7X"
      },
      "execution_count": null,
      "outputs": []
    },
    {
      "cell_type": "markdown",
      "source": [
        "# 불용어 제거"
      ],
      "metadata": {
        "id": "IwQ-lRh4D7fN"
      }
    },
    {
      "cell_type": "code",
      "source": [
        "import nltk\n",
        "nltk.download('punkt')\n",
        "from nltk.tokenize import word_tokenize \n",
        "\n",
        "in_person_stopword = '암호 화폐 코인 대한 가상 자산 다는 보다 뉴시스 경우 에서 으로 습니다 것 등 수 이 코 루 비트코 전 중 이날 테 경우 투 이후 때문 때 관련 대비 그 이상 기 3 원 블록체 해당 설명 이번 24시간 약 씨 오후 주요 유 현재 상황 올해 방식 0. 규모 선 거 5월 바 기존 뒤 한편 권 가운데 한 지 개 정도 초 일부 들 만 시 내용 시각 후 전체 0 내 데 점 두 사건 2 비중'\n",
        "\n",
        "korean_stopwords=' 아 휴 아이구 아이쿠 아이고 어 나 우리 저희 따라 의해 을 를 에 의 가 으로 로 에게 뿐이다 의거하여 근거하여 입각하여 기준으로 예하면 예를 들면 예를 들자면 저 소인 소생 저희 지말고 하지마 하지마라 다른 물론 또한 그리고 비길수 없다 해서는 안된다 뿐만 아니라 만이 아니다 만은 아니다 막론하고 관계없이 그치지 않다 그러나 그런데 하지만 든간에 논하지 않다 따지지 않다 설사 비록 더라도 아니면 만 못하다 하는 편이 낫다 불문하고 향하여 향해서 향하다 쪽으로 틈타 이용하여 타다 오르다 제외하고 이 외에 이 밖에 하여야 비로소 한다면 몰라도 외에도 이곳 여기 부터 기점으로 따라서 할 생각이다 하려고하다 이리하여 그리하여 그렇게 함으로써 하지만 일때 할때 앞에서 중에서 보는데서 으로써 로써 까지 해야한다 일것이다 반드시 할줄알다 할수있다 할수있어 임에 틀림없다 한다면 등 등등 제 겨우 단지 다만 할뿐 딩동 댕그 대해서 대하여 대하면 훨씬 얼마나 얼마만큼 얼마큼 남짓 여 얼마간 약간 다소 좀 조금 다수 몇 얼마 지만 하물며 또한 그러나 그렇지만 하지만 이외에도 대해 말하자면 뿐이다 다음에 반대로 반대로 말하자면 이와 반대로 바꾸어서 말하면 바꾸어서 한다면 만약 그렇지않으면 까악 툭 딱 삐걱거리다 보드득 비걱거리다 꽈당 응당 해야한다 에 가서 각 각각 여러분 각종 각자 제각기 하도록하다 와 과 그러므로 그래서 고로 한 까닭에 하기 때문에 거니와 이지만 대하여 관하여 관한 과연 실로 아니나다를가 생각한대로 진짜로 한적이있다 하곤하였다 하 하하 허허 아하 거바 와 오 왜 어째서 무엇때문에 어찌 하겠는가 무슨 어디 어느곳 더군다나 하물며 더욱이는 어느때 언제 야 이봐 어이 여보시오 흐흐 흥 휴 헉헉 헐떡헐떡 영차 여차 어기여차 끙끙 아야 앗 아야 콸콸 졸졸 좍좍 뚝뚝 주룩주룩 솨 우르르 그래도 또 그리고 바꾸어말하면 바꾸어말하자면 혹은 혹시 답다 및 그에 따르는 때가 되어 즉 지든지 설령 가령 하더라도 할지라도 일지라도 지든지 몇 거의 하마터면 인젠 이젠 된바에야 된이상 만큼 어찌됏든 그위에 게다가 점에서 보아 비추어 보아 고려하면 하게될것이다 일것이다 비교적 좀 보다더 비하면 시키다 하게하다 할만하다 의해서 연이서 이어서 잇따라 뒤따라 뒤이어 결국 의지하여 기대여 통하여 자마자 더욱더 불구하고 얼마든지 마음대로 주저하지 않고 곧 즉시 바로 당장 하자마자 밖에 안된다 하면된다 그래 그렇지 요컨대 다시 말하자면 바꿔 말하면 즉 구체적으로 말하자면 시작하여 시초에 이상 허 헉 허걱 바와같이 해도좋다 해도된다 게다가 더구나 하물며 와르르 팍 퍽 펄렁 동안 이래 하고있었다 이었다 에서 로부터 까지 예하면 했어요 해요 함께 같이 더불어 마저 마저도 양자 모두 습니다 가까스로 하려고하다 즈음하여 다른 다른 방면으로 해봐요 습니까 했어요 말할것도 없고 무릎쓰고 개의치않고 하는것만 못하다 하는것이 낫다 매 매번 들 모 어느것 어느 로써 갖고말하자면 어디 어느쪽 어느것 어느해 어느 년도 라 해도 언젠가 어떤것 어느것 저기 저쪽 저것 그때 그럼 그러면 요만한걸 그래 그때 저것만큼 그저 이르기까지 할 줄 안다 할 힘이 있다 너 너희 당신 어찌 설마 차라리 할지언정 할지라도 할망정 할지언정 구토하다 게우다 토하다 메쓰겁다 옆사람 퉤 쳇 의거하여 근거하여 의해 따라 힘입어 그 다음 버금 두번째로 기타 첫번째로 나머지는 그중에서 견지에서 형식으로 쓰여 입장에서 위해서 단지 의해되다 하도록시키다 뿐만아니라 반대로 전후 전자 앞의것 잠시 잠깐 하면서 그렇지만 다음에 그러한즉 그런즉 남들 아무거나 어찌하든지 같다 비슷하다 예컨대 이럴정도로 어떻게 만약 만일 위에서 서술한바와같이 인 듯하다 하지 않는다면 만약에 무엇 무슨 어느 어떤 아래윗 조차 한데 그럼에도 불구하고 여전히 심지어 까지도 조차도 하지 않도록 않기 위하여 때 시각 무렵 시간 동안 어때 어떠한 하여금 네 예 우선 누구 누가 알겠는가 아무도 줄은모른다 줄은 몰랏다 하는 김에 겸사겸사 하는바 그런 까닭에 한 이유는 그러니 그러니까 때문에 그 너희 그들 너희들 타인 것 것들 너 위하여 공동으로 동시에 하기 위하여 어찌하여 무엇때문에 붕붕 윙윙 나 우리 엉엉 휘익 윙윙 오호 아하 어쨋든 만 못하다 하기보다는 차라리 하는 편이 낫다 흐흐 놀라다 상대적으로 말하자면 마치 아니라면 쉿 그렇지 않으면 그렇지 않다면 안 그러면 아니었다면 하든지 아니면 이라면 좋아 알았어 하는것도 그만이다 어쩔수 없다 하나 일 일반적으로 일단 한켠으로는 오자마자 이렇게되면 이와같다면 전부 한마디 한항목 근거로 하기에 아울러 하지 않도록 않기 위해서 이르기까지 이 되다 로 인하여 까닭으로 이유만으로 이로 인하여 그래서 이 때문에 그러므로 그런 까닭에 알 수 있다 결론을 낼 수 있다 으로 인하여 있다 어떤것 관계가 있다 관련이 있다 연관되다 어떤것들 에 대해 이리하여 그리하여 여부 하기보다는 하느니 하면 할수록 운운 이러이러하다 하구나 하도다 다시말하면 다음으로 에 있다 에 달려 있다 우리 우리들 오히려 하기는한데 어떻게 어떻해 어찌됏어 어때 어째서 본대로 자 이 이쪽 여기 이것 이번 이렇게말하자면 이런 이러한 이와 같은 요만큼 요만한 것 얼마 안 되는 것 이만큼 이 정도의 이렇게 많은 것 이와 같다 이때 이렇구나 것과 같이 끼익 삐걱 따위 와 같은 사람들 부류의 사람들 왜냐하면 중의하나 오직 오로지 에 한하다 하기만 하면 도착하다 까지 미치다 도달하다 정도에 이르다 할 지경이다 결과에 이르다 관해서는 여러분 하고 있다 한 후 혼자 자기 자기집 자신 우에 종합한것과같이 총적으로 보면 총적으로 말하면 총적으로 대로 하다 으로서 참 그만이다 할 따름이다 쿵 탕탕 쾅쾅 둥둥 봐 봐라 아이야 아니 와아 응 아이 참나 년 월 일 령 영 일 이 삼 사 오 육 륙 칠 팔 구 이천육 이천칠 이천팔 이천구 하나 둘 셋 넷 다섯 여섯 일곱 여덟 아홉 령 영 이 있 하 것 들 그 되 수 이 보 않 없 나 사람 주 아니 등 같 우리 때 년 가 한 지 대하 오 말 일 그렇 위하 때문 그것 두 말하 알 그러나 받 못하 일 그런 또 문제 더 사회 많 그리고 좋 크 따르 중 나오 가지 씨 시키 만들 지금 생각하 그러 속 하나 집 살 모르 적 월 데 자신 안 어떤 내 내 경우 명 생각 시간 그녀 다시 이런 앞 보이 번 나 다른 어떻 여자 개 전 들 사실 이렇 점 싶 말 정도 좀 원 잘 통하 놓'\n",
        "stop_words = in_person_stopword + korean_stopwords\n",
        "\n",
        "stop_words = stop_words.split(' ')\n"
      ],
      "metadata": {
        "id": "rlU-i5z7ABIT"
      },
      "execution_count": null,
      "outputs": []
    },
    {
      "cell_type": "markdown",
      "source": [
        "# 전처리"
      ],
      "metadata": {
        "id": "v2bs2aZCHMOP"
      }
    },
    {
      "cell_type": "code",
      "source": [
        "preprocessed_documents = []\n",
        "i = 0 \n",
        "deleted_article = []\n",
        "\n",
        "\n",
        "for line in tqdm(documents):\n",
        "  # 빈 문자열이거나 숫자로만 이루어진 줄은 제외\n",
        "  if line and not line.replace(' ', '').isdecimal():\n",
        "    preprocessed_documents.append(line)\n",
        "    i += 1 \n",
        "  \n",
        "  else: \n",
        "    deleted_article.append(i)\n",
        "    i +=1"
      ],
      "metadata": {
        "id": "5HNc7kMr6is-"
      },
      "execution_count": null,
      "outputs": []
    },
    {
      "cell_type": "code",
      "source": [
        "real_df = df.drop(deleted_article)\n",
        "\n",
        "len(real_df)"
      ],
      "metadata": {
        "id": "zBoT-epNq1fZ"
      },
      "execution_count": null,
      "outputs": []
    },
    {
      "cell_type": "markdown",
      "source": [
        "# CustomTokenizer 생성 "
      ],
      "metadata": {
        "id": "P-0SH2ApLJAY"
      }
    },
    {
      "cell_type": "code",
      "source": [
        "class CustomTokenizer:\n",
        "    def __init__(self, tagger):\n",
        "        self.tagger = tagger\n",
        "    def __call__(self, sent):\n",
        "        sent = sent[:1000000]\n",
        "        word_tokens = self.tagger.morphs(sent)\n",
        "        result = [word for word in word_tokens if len(word) > 1 and word not in stop_words]\n",
        "        return result"
      ],
      "metadata": {
        "id": "RLZ5PKDV6iu2"
      },
      "execution_count": null,
      "outputs": []
    },
    {
      "cell_type": "code",
      "source": [
        "custom_tokenizer = CustomTokenizer(Mecab())"
      ],
      "metadata": {
        "id": "96Dac5Yv6iw_"
      },
      "execution_count": null,
      "outputs": []
    },
    {
      "cell_type": "code",
      "source": [
        "vectorizer = CountVectorizer(tokenizer=custom_tokenizer, max_features=3000) # max_features 정수, 기본값=없음\n",
        "# 없음이 아닌 경우 코퍼스 전체에서 용어 빈도로 정렬된 상위 max_features만 고려하는 어휘를 작성하는 것 "
      ],
      "metadata": {
        "id": "DWeJNBGO7zz_"
      },
      "execution_count": null,
      "outputs": []
    },
    {
      "cell_type": "code",
      "source": [
        "vectorizer.fit(documents)\n",
        "vectorizer.vocabulary_"
      ],
      "metadata": {
        "id": "Q2EBu8IGFLTx"
      },
      "execution_count": null,
      "outputs": []
    },
    {
      "cell_type": "code",
      "source": [
        "model = BERTopic(embedding_model=\"sentence-transformers/xlm-r-100langs-bert-base-nli-stsb-mean-tokens\", \\\n",
        "                 vectorizer_model=vectorizer,\n",
        "                 nr_topics=4,\n",
        "                 top_n_words=5,\n",
        "                 calculate_probabilities=True)"
      ],
      "metadata": {
        "id": "IaWwTvDAfaMj"
      },
      "execution_count": null,
      "outputs": []
    },
    {
      "cell_type": "code",
      "source": [
        "topics, probs = model.fit_transform(preprocessed_documents)"
      ],
      "metadata": {
        "id": "pWwrHjJH7z39"
      },
      "execution_count": null,
      "outputs": []
    },
    {
      "cell_type": "code",
      "source": [
        "real_df['Topics'] = topics"
      ],
      "metadata": {
        "id": "n6gni4KhMrpw"
      },
      "execution_count": null,
      "outputs": []
    },
    {
      "cell_type": "code",
      "source": [
        "# topic 0 \n",
        "real_df[real_df['Topics']==0].drop('Link',axis=1).head()"
      ],
      "metadata": {
        "id": "xBwbdeOrqOuW"
      },
      "execution_count": null,
      "outputs": []
    },
    {
      "cell_type": "code",
      "source": [
        "# topic 1 \n",
        "real_df[real_df['Topics']==1].drop('Link',axis=1).head()"
      ],
      "metadata": {
        "id": "zvKk6ODytlkH"
      },
      "execution_count": null,
      "outputs": []
    },
    {
      "cell_type": "code",
      "source": [
        "# topic 2 \n",
        "real_df[real_df['Topics']==2].drop('Link',axis=1).head()"
      ],
      "metadata": {
        "id": "rodMW28JtrDk"
      },
      "execution_count": null,
      "outputs": []
    },
    {
      "cell_type": "code",
      "source": [
        "df['Article'].loc[438]#.drop('Link',axis=1)"
      ],
      "metadata": {
        "id": "Ih1GDhEigzfx"
      },
      "execution_count": null,
      "outputs": []
    },
    {
      "cell_type": "code",
      "source": [
        "# topic 3 \n",
        "real_df[real_df['Topics']==3].drop('Link',axis=1).head(20)"
      ],
      "metadata": {
        "id": "8TlfZMDVtswU"
      },
      "execution_count": null,
      "outputs": []
    },
    {
      "cell_type": "code",
      "source": [
        "real_df.loc[359]['Article']"
      ],
      "metadata": {
        "id": "M4btG2RZiAeT"
      },
      "execution_count": null,
      "outputs": []
    },
    {
      "cell_type": "code",
      "source": [
        "model.visualize_topics()"
      ],
      "metadata": {
        "id": "5eq6C5jD7z5_"
      },
      "execution_count": null,
      "outputs": []
    },
    {
      "cell_type": "code",
      "source": [
        "model.visualize_barchart()"
      ],
      "metadata": {
        "id": "tN3AXGHZnNaA"
      },
      "execution_count": null,
      "outputs": []
    },
    {
      "cell_type": "code",
      "source": [
        "# 마이너 의미\n",
        "for i in range(len(df['Article'])):\n",
        "    if 'CIO' in df['Article'][i]:\n",
        "        if '마이너' in df['Article'][i]:\n",
        "            print(i, df['Article'][i])"
      ],
      "metadata": {
        "id": "i_kDssEk75jj"
      },
      "execution_count": null,
      "outputs": []
    },
    {
      "cell_type": "code",
      "source": [
        "# get_topic_info() : 토픽의 개수, 토픽의 크기, 각 토픽에 할당된 단어들을 일부 볼 수 있음\n",
        "# -1은 토픽이 할당되지 않은 모든 이상치 문서(outliers)들을 나타냄 \n",
        "\n",
        "model.get_topic_info()"
      ],
      "metadata": {
        "id": "sngVzrHh75ll"
      },
      "execution_count": null,
      "outputs": []
    },
    {
      "cell_type": "markdown",
      "source": [
        "# 특정 토픽 기사의 날짜"
      ],
      "metadata": {
        "id": "p7kZ_-Qbu67X"
      }
    },
    {
      "cell_type": "code",
      "source": [
        "print(len(real_df['Datetime'][real_df['Topics']==3].unique()))  # 최근 \n",
        "real_df['Datetime'][real_df['Topics']==3].unique()"
      ],
      "metadata": {
        "id": "7Kikw_-LrgEf"
      },
      "execution_count": null,
      "outputs": []
    },
    {
      "cell_type": "code",
      "source": [
        "print(len(real_df['Datetime'][real_df['Topics']==2].unique())) # 최근의 일\n",
        "real_df['Datetime'][real_df['Topics']==2].unique()"
      ],
      "metadata": {
        "id": "7UaCGKhXrwXA"
      },
      "execution_count": null,
      "outputs": []
    },
    {
      "cell_type": "code",
      "source": [
        "print(len(real_df['Datetime'][real_df['Topics']==1].unique())) # 15일 이상 \n",
        "real_df['Datetime'][real_df['Topics']==1].unique()"
      ],
      "metadata": {
        "id": "jGqp-678utni"
      },
      "execution_count": null,
      "outputs": []
    },
    {
      "cell_type": "code",
      "source": [
        "print(len(real_df['Datetime'][real_df['Topics']==0].unique())) # 거의 한달 내내  ## 중요한 이슈 \n",
        "real_df['Datetime'][real_df['Topics']==0].unique()\n"
      ],
      "metadata": {
        "id": "z-SS-FPEuvoo"
      },
      "execution_count": null,
      "outputs": []
    },
    {
      "cell_type": "code",
      "source": [
        "real_df.head(4)"
      ],
      "metadata": {
        "id": "1rwO5-R7Oipw"
      },
      "execution_count": null,
      "outputs": []
    },
    {
      "cell_type": "code",
      "source": [
        "file_path =  \"/content/gdrive/My Drive/웹과텍스트마이닝/기말 프로젝트/Data/\"\n",
        "\n",
        "file_name = \"네이버_뉴스_\" + '코인_토픽별' + \".csv\"\n",
        "\n",
        "file_full_path = file_path + file_name\n",
        "\n",
        "real_df.to_csv(file_full_path ,  index = False, encoding=\"utf-8-sig\") # utf-8-sig로 해야함!  "
      ],
      "metadata": {
        "id": "0xZeY9UcuwsA"
      },
      "execution_count": null,
      "outputs": []
    }
  ]
}